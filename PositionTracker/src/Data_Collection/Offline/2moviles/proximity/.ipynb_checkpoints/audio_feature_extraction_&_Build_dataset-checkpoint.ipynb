{
 "cells": [
  {
   "cell_type": "code",
   "execution_count": 1,
   "metadata": {},
   "outputs": [],
   "source": [
    "#!pip install psycopg2-binary\n",
    "#!pip install pydub\n",
    "#!pip install librosa\n",
    "#!pip install wave\n",
    "import librosa\n",
    "import wave\n",
    "import warnings\n",
    "warnings.filterwarnings('ignore')\n",
    "import numpy as np\n",
    "import base64\n",
    "import yaml\n",
    "import psycopg2\n",
    "from psycopg2.extras import RealDictCursor\n",
    "import matplotlib.pyplot as plt\n",
    "import json\n",
    "import scipy.stats as stats\n",
    "import pandas as pd\n",
    "# import statsmodels.api as sm\n",
    "import os\n",
    "import seaborn as sns\n",
    "sns.set()\n",
    "from joblib import dump\n",
    "import pandas as pd\n",
    "from sklearn.model_selection import train_test_split\n",
    "from sklearn.naive_bayes import GaussianNB\n",
    "from sklearn.utils import resample\n",
    "from sklearn.model_selection import cross_val_score, GridSearchCV\n",
    "from sklearn.metrics import confusion_matrix, classification_report\n",
    "from sklearn.preprocessing import StandardScaler\n",
    "from sklearn.decomposition import PCA\n",
    "from sklearn.discriminant_analysis import LinearDiscriminantAnalysis\n",
    "from sklearn.svm import LinearSVC, SVC\n",
    "from mpl_toolkits.mplot3d import Axes3D"
   ]
  },
  {
   "cell_type": "markdown",
   "metadata": {},
   "source": [
    "## Connect to DB"
   ]
  },
  {
   "cell_type": "code",
   "execution_count": 2,
   "metadata": {},
   "outputs": [],
   "source": [
    "file = open('/home/aaron/Trabajo/interaction-tracker-updated/PositionTracker/src/Data_Processing/config.yml', 'r')\n",
    "cfg = yaml.load(file)\n",
    "conn = psycopg2.connect(database=cfg['postgreSQL']['dbname'], user=cfg['postgreSQL']['user'],\n",
    "                             password=cfg['postgreSQL']['pass'], host=cfg['postgreSQL']['host'],\n",
    "                             port=cfg['postgreSQL']['port'])\n",
    "\n",
    "cur = conn.cursor(cursor_factory=RealDictCursor)"
   ]
  },
  {
   "cell_type": "markdown",
   "metadata": {},
   "source": [
    "## Create dataset"
   ]
  },
  {
   "cell_type": "code",
   "execution_count": 3,
   "metadata": {},
   "outputs": [
    {
     "data": {
      "text/html": [
       "<div>\n",
       "<style scoped>\n",
       "    .dataframe tbody tr th:only-of-type {\n",
       "        vertical-align: middle;\n",
       "    }\n",
       "\n",
       "    .dataframe tbody tr th {\n",
       "        vertical-align: top;\n",
       "    }\n",
       "\n",
       "    .dataframe thead tr th {\n",
       "        text-align: left;\n",
       "    }\n",
       "</style>\n",
       "<table border=\"1\" class=\"dataframe\">\n",
       "  <thead>\n",
       "    <tr>\n",
       "      <th></th>\n",
       "      <th>timestamp</th>\n",
       "      <th>recorder</th>\n",
       "      <th>mfcc_1</th>\n",
       "      <th>mfcc_2</th>\n",
       "      <th>mfcc_3</th>\n",
       "      <th>mfcc_4</th>\n",
       "      <th>mfcc_5</th>\n",
       "      <th>mfcc_6</th>\n",
       "      <th>mfcc_7</th>\n",
       "      <th>mfcc_8</th>\n",
       "      <th>...</th>\n",
       "      <th>mfcc_14</th>\n",
       "      <th>mfcc_15</th>\n",
       "      <th>mfcc_16</th>\n",
       "      <th>mfcc_17</th>\n",
       "      <th>mfcc_18</th>\n",
       "      <th>mfcc_19</th>\n",
       "      <th>mfcc_20</th>\n",
       "      <th>rms</th>\n",
       "      <th>spectral_centroid</th>\n",
       "      <th>zero_crossing_rate</th>\n",
       "    </tr>\n",
       "  </thead>\n",
       "  <tbody>\n",
       "  </tbody>\n",
       "</table>\n",
       "<p>0 rows × 25 columns</p>\n",
       "</div>"
      ],
      "text/plain": [
       "Empty DataFrame\n",
       "Columns: [(timestamp,), (recorder,), (mfcc_1,), (mfcc_2,), (mfcc_3,), (mfcc_4,), (mfcc_5,), (mfcc_6,), (mfcc_7,), (mfcc_8,), (mfcc_9,), (mfcc_10,), (mfcc_11,), (mfcc_12,), (mfcc_13,), (mfcc_14,), (mfcc_15,), (mfcc_16,), (mfcc_17,), (mfcc_18,), (mfcc_19,), (mfcc_20,), (rms,), (spectral_centroid,), (zero_crossing_rate,)]\n",
       "Index: []\n",
       "\n",
       "[0 rows x 25 columns]"
      ]
     },
     "execution_count": 3,
     "metadata": {},
     "output_type": "execute_result"
    }
   ],
   "source": [
    "df = pd.DataFrame(columns=[['timestamp', 'recorder']+\n",
    "                           ['mfcc_'+str(i) for i in range(1,21)]+\n",
    "                           ['rms', 'spectral_centroid', 'zero_crossing_rate']])\n",
    "df"
   ]
  },
  {
   "cell_type": "markdown",
   "metadata": {},
   "source": [
    "## Extract audio features"
   ]
  },
  {
   "cell_type": "code",
   "execution_count": 4,
   "metadata": {},
   "outputs": [],
   "source": [
    "def extract_audio_features():\n",
    "    y, sr = librosa.load(\"audio.wav\", sr=32000)\n",
    "\n",
    "    # Mel-frequency cepstral coefficients\n",
    "    mfcc = librosa.feature.mfcc(y, sr, n_mfcc=20)\n",
    "\n",
    "    #print(mfcc)\n",
    "\n",
    "    # Root-Mean-square (RMS) : obtiene la presion de la señal de audio en diferentes puntos, la eleva al cuadrado, hace la media\n",
    "    # y luego la raíz cuadrada\n",
    "    rms = librosa.feature.rms(y)\n",
    "\n",
    "\n",
    "    #print(rms)\n",
    "    # Spectral-centroid: Indica donde está el \"centro de masa\" de la señal. Internamente, se calcula la FFT y se hace\n",
    "    # una media ponderada de las frecuencias de la señal con sus magnitudes como ponderaciones.\n",
    "    spec_centr = librosa.feature.spectral_centroid(y, sr)\n",
    "\n",
    "    #print(spec_centr)\n",
    "\n",
    "    # Zero-crossing rate: indica las veces en las que la señal ha pasado por el valor 0 (ha pasado de positivo-negativo\n",
    "    # o de negativo-positivo)\n",
    "\n",
    "    zero_cross = librosa.feature.zero_crossing_rate(y)\n",
    "\n",
    "    return ([np.mean(mfcc[i]) for i in range(0,len(mfcc))], np.mean(rms), np.mean(spec_centr), np.mean(zero_cross))\n",
    "    #print(zero_cross)"
   ]
  },
  {
   "cell_type": "markdown",
   "metadata": {},
   "source": [
    "## Decode audio data"
   ]
  },
  {
   "cell_type": "code",
   "execution_count": 9,
   "metadata": {},
   "outputs": [],
   "source": [
    "MOVILES = ['TARGETDEV-oz20sk', 'TARGETDEV-aw2zrw'] #tendrá los nombres de los 2 móviles\n",
    "columns = df.columns\n",
    "\n",
    "\n",
    "cur.execute(\"SELECT * FROM audiodata WHERE recorderdevice=%(recorderdevice)s ORDER BY time DESC\", {'recorderdevice':MOVILES[1]})\n",
    "audio_enc = cur.fetchall()\n",
    "\n",
    "for i in range(0,len(audio_enc)):\n",
    "    audio_dec = base64.b64decode(audio_enc[i]['audiodata'])\n",
    "\n",
    "    wavfile = wave.open(\"audio.wav\", 'wb')\n",
    "    wavfile.setnchannels(1)\n",
    "    wavfile.setsampwidth(1)\n",
    "    wavfile.setframerate(32000)\n",
    "    wavfile.writeframes(audio_dec)\n",
    "    wavfile.close()\n",
    "\n",
    "    # return the audio features for file \"audio.wav\"\n",
    "    mfcc, rms, spec_cent, zero_cross = extract_audio_features()\n",
    "\n",
    "    timestamp = audio_enc[i]['time']\n",
    "    recorder = audio_enc[i]['recorderdevice']\n",
    "\n",
    "    new_row = np.array([np.concatenate(([timestamp, recorder], [mfcc[i] for i in range(0,len(mfcc))], [rms, spec_cent, zero_cross]),axis=0)])\n",
    "    df2 = pd.DataFrame(new_row, columns=columns)\n",
    "    df = df.append(df2, ignore_index=True)"
   ]
  },
  {
   "cell_type": "markdown",
   "metadata": {},
   "source": [
    "## Export dataset to .csv file"
   ]
  },
  {
   "cell_type": "code",
   "execution_count": 8,
   "metadata": {},
   "outputs": [],
   "source": [
    "f = open('audioDataset.csv', 'w')\n",
    "df.to_csv(f, sep=',')"
   ]
  },
  {
   "cell_type": "markdown",
   "metadata": {},
   "source": [
    "## Analyse audio data"
   ]
  },
  {
   "cell_type": "code",
   "execution_count": null,
   "metadata": {},
   "outputs": [],
   "source": [
    "y, sr = librosa.load(\"audio.wav\", sr=32000)\n",
    "\n",
    "# Mel-frequency cepstral coefficients\n",
    "mfcc = librosa.feature.mfcc(y, sr, n_mfcc=20)\n",
    "\n",
    "print(mfcc)\n",
    "\n",
    "# Root-Mean-square (RMS) : obtiene la presion de la señal de audio en diferentes puntos, la eleva al cuadrado, hace la media\n",
    "# y luego la raíz cuadrada\n",
    "rms = librosa.feature.rms(y)\n",
    "\n",
    "\n",
    "print(rms)\n",
    "# Spectral-centroid: Indica donde está el \"centro de masa\" de la señal. Internamente, se calcula la FFT y se hace\n",
    "# una media ponderada de las frecuencias de la señal con sus magnitudes como ponderaciones.\n",
    "spec_centr = librosa.feature.spectral_centroid(y, sr)\n",
    "\n",
    "print(spec_centr)\n",
    "\n",
    "# Zero-crossing rate: indica las veces en las que la señal ha pasado por el valor 0 (ha pasado de positivo-negativo\n",
    "# o de negativo-positivo)\n",
    "\n",
    "zero_cross = librosa.feature.zero_crossing_rate(y)\n",
    "\n",
    "print(zero_cross)"
   ]
  },
  {
   "cell_type": "markdown",
   "metadata": {},
   "source": [
    "## Traditional Machine Learning\n",
    "\n",
    "-Se extraen las características del audio (amplitude envelope, zero crossing rate...) y se intenta clasificar el audio en las clases que quieran (ruido coche, habla, pájaro...)\n",
    "\n",
    "## Deep learning\n",
    "\n",
    "-Se pasa el audio en crudo sin extraer ninguna característica \n",
    "-Se pueden pasar también características del audio y pasarlas por la red neuronal"
   ]
  },
  {
   "cell_type": "markdown",
   "metadata": {},
   "source": [
    "### Features \n",
    "#### Time domain\n",
    "\n",
    "- Amplitude envelope\n",
    "- Root-mean square energy\n",
    "- Zero crossing rate\n",
    "\n",
    "#### Frequency domain (obtained by applying FFT)\n",
    "- Band energy ratio\n",
    "- Spectral centroid\n",
    "- Spectral flux\n",
    "\n",
    "#### Time-frequency representation\n",
    "- Spectrogram (obtained by applying a STFT to time-domain signal)\n",
    "- Mel-spectrogram\n",
    "- Costant-Q transform"
   ]
  }
 ],
 "metadata": {
  "kernelspec": {
   "display_name": "Python 3",
   "language": "python",
   "name": "python3"
  },
  "language_info": {
   "codemirror_mode": {
    "name": "ipython",
    "version": 3
   },
   "file_extension": ".py",
   "mimetype": "text/x-python",
   "name": "python",
   "nbconvert_exporter": "python",
   "pygments_lexer": "ipython3",
   "version": "3.8.3"
  }
 },
 "nbformat": 4,
 "nbformat_minor": 4
}
