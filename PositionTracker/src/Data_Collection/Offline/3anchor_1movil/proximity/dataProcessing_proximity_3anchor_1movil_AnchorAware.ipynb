{
 "cells": [
  {
   "cell_type": "code",
   "execution_count": 37,
   "metadata": {},
   "outputs": [],
   "source": [
    "import warnings\n",
    "warnings.filterwarnings('ignore')\n",
    "import numpy as np\n",
    "import matplotlib.pyplot as plt\n",
    "import json\n",
    "import scipy.stats as stats\n",
    "import pandas as pd\n",
    "# import statsmodels.api as sm\n",
    "import os\n",
    "import seaborn as sns\n",
    "sns.set()\n",
    "from joblib import dump\n",
    "import pandas as pd\n",
    "from sklearn.model_selection import train_test_split\n",
    "from sklearn.naive_bayes import GaussianNB\n",
    "from sklearn.utils import resample\n",
    "from sklearn.model_selection import cross_val_score, GridSearchCV\n",
    "from sklearn.metrics import confusion_matrix, classification_report\n",
    "from sklearn.preprocessing import StandardScaler\n",
    "from sklearn.decomposition import PCA\n",
    "from sklearn.discriminant_analysis import LinearDiscriminantAnalysis\n",
    "from sklearn.svm import LinearSVC, SVC\n",
    "from mpl_toolkits.mplot3d import Axes3D"
   ]
  },
  {
   "cell_type": "markdown",
   "metadata": {},
   "source": [
    "## BUILDING THE DATASET"
   ]
  },
  {
   "cell_type": "code",
   "execution_count": 38,
   "metadata": {},
   "outputs": [
    {
     "data": {
      "text/html": [
       "<div>\n",
       "<style scoped>\n",
       "    .dataframe tbody tr th:only-of-type {\n",
       "        vertical-align: middle;\n",
       "    }\n",
       "\n",
       "    .dataframe tbody tr th {\n",
       "        vertical-align: top;\n",
       "    }\n",
       "\n",
       "    .dataframe thead th {\n",
       "        text-align: right;\n",
       "    }\n",
       "</style>\n",
       "<table border=\"1\" class=\"dataframe\">\n",
       "  <thead>\n",
       "    <tr style=\"text-align: right;\">\n",
       "      <th></th>\n",
       "      <th>Anchor_name</th>\n",
       "      <th>RSSI</th>\n",
       "      <th>distance</th>\n",
       "      <th>dist_&lt;_1m</th>\n",
       "    </tr>\n",
       "  </thead>\n",
       "  <tbody>\n",
       "    <tr>\n",
       "      <th>0</th>\n",
       "      <td>ANC-4278</td>\n",
       "      <td>-25</td>\n",
       "      <td>0.0</td>\n",
       "      <td>1</td>\n",
       "    </tr>\n",
       "    <tr>\n",
       "      <th>1</th>\n",
       "      <td>ANC-4278</td>\n",
       "      <td>-25</td>\n",
       "      <td>0.0</td>\n",
       "      <td>1</td>\n",
       "    </tr>\n",
       "    <tr>\n",
       "      <th>2</th>\n",
       "      <td>ANC-4278</td>\n",
       "      <td>-25</td>\n",
       "      <td>0.0</td>\n",
       "      <td>1</td>\n",
       "    </tr>\n",
       "    <tr>\n",
       "      <th>3</th>\n",
       "      <td>ANC-4278</td>\n",
       "      <td>-25</td>\n",
       "      <td>0.0</td>\n",
       "      <td>1</td>\n",
       "    </tr>\n",
       "    <tr>\n",
       "      <th>4</th>\n",
       "      <td>ANC-4278</td>\n",
       "      <td>-25</td>\n",
       "      <td>0.0</td>\n",
       "      <td>1</td>\n",
       "    </tr>\n",
       "    <tr>\n",
       "      <th>...</th>\n",
       "      <td>...</td>\n",
       "      <td>...</td>\n",
       "      <td>...</td>\n",
       "      <td>...</td>\n",
       "    </tr>\n",
       "    <tr>\n",
       "      <th>12109</th>\n",
       "      <td>ANC-3b6c</td>\n",
       "      <td>-55</td>\n",
       "      <td>0.8</td>\n",
       "      <td>1</td>\n",
       "    </tr>\n",
       "    <tr>\n",
       "      <th>12110</th>\n",
       "      <td>ANC-3b6c</td>\n",
       "      <td>-48</td>\n",
       "      <td>0.8</td>\n",
       "      <td>1</td>\n",
       "    </tr>\n",
       "    <tr>\n",
       "      <th>12111</th>\n",
       "      <td>ANC-3b6c</td>\n",
       "      <td>-48</td>\n",
       "      <td>0.8</td>\n",
       "      <td>1</td>\n",
       "    </tr>\n",
       "    <tr>\n",
       "      <th>12112</th>\n",
       "      <td>ANC-3b6c</td>\n",
       "      <td>-46</td>\n",
       "      <td>0.8</td>\n",
       "      <td>1</td>\n",
       "    </tr>\n",
       "    <tr>\n",
       "      <th>12113</th>\n",
       "      <td>ANC-3b6c</td>\n",
       "      <td>-46</td>\n",
       "      <td>0.8</td>\n",
       "      <td>1</td>\n",
       "    </tr>\n",
       "  </tbody>\n",
       "</table>\n",
       "<p>12114 rows × 4 columns</p>\n",
       "</div>"
      ],
      "text/plain": [
       "      Anchor_name RSSI  distance  dist_<_1m\n",
       "0        ANC-4278  -25       0.0          1\n",
       "1        ANC-4278  -25       0.0          1\n",
       "2        ANC-4278  -25       0.0          1\n",
       "3        ANC-4278  -25       0.0          1\n",
       "4        ANC-4278  -25       0.0          1\n",
       "...           ...  ...       ...        ...\n",
       "12109    ANC-3b6c  -55       0.8          1\n",
       "12110    ANC-3b6c  -48       0.8          1\n",
       "12111    ANC-3b6c  -48       0.8          1\n",
       "12112    ANC-3b6c  -46       0.8          1\n",
       "12113    ANC-3b6c  -46       0.8          1\n",
       "\n",
       "[12114 rows x 4 columns]"
      ]
     },
     "execution_count": 38,
     "metadata": {},
     "output_type": "execute_result"
    }
   ],
   "source": [
    "#create dataset\n",
    "data = pd.DataFrame(columns=['Anchor_name', 'RSSI', 'distance'])\n",
    "\n",
    "# Reading gathered data files\n",
    "files_list = sorted(list(filter(lambda x: (\"detectedDevs\" in x), os.listdir(\"/home/aaron/Trabajo/interaction-tracker-updated/PositionTracker/src/Data_Collection/Offline/3anchor_1movil/proximity\"))))\n",
    "\n",
    "#concatenate file's data to build the dataset\n",
    "for file in files_list:\n",
    "    filename_split = file.split('_')\n",
    "    distance = float(filename_split[2]) / 100\n",
    "    df = pd.read_json('/home/aaron/Trabajo/interaction-tracker-updated/PositionTracker/src/Data_Collection/Offline/3anchor_1movil/proximity/'+file)\n",
    "\n",
    "    df.drop(['devname'], axis=1, inplace=True)\n",
    "    df.rename(columns={'launchpadId':'Anchor_name'}, inplace=True)\n",
    "    df.insert(loc=2, column='distance', value=np.repeat(distance, df.shape[0]))\n",
    "\n",
    "    data = data.append(df)\n",
    "\n",
    "data.reset_index(drop=True, inplace=True)\n",
    "\n",
    "#create the column \"dist_<_1m\" to allow performing classification\n",
    "data.insert(3, 'dist_<_1m', data['distance'].apply(lambda dist: 1 if dist < 1.0 else 0))\n",
    "data"
   ]
  },
  {
   "cell_type": "markdown",
   "metadata": {},
   "source": [
    "## PREPROCESSING"
   ]
  },
  {
   "cell_type": "code",
   "execution_count": 39,
   "metadata": {},
   "outputs": [
    {
     "name": "stdout",
     "output_type": "stream",
     "text": [
      "      Anchor_name RSSI  distance  dist_<_1m\n",
      "3643     ANC-4278  -48       0.8          1\n",
      "4164     ANC-4acf  -26       0.0          1\n",
      "3585     ANC-4278  -46       0.8          1\n",
      "8342     ANC-3b6c  -27       0.0          1\n",
      "7163     ANC-4acf  -43       0.6          1\n",
      "...           ...  ...       ...        ...\n",
      "10594    ANC-3b6c  -63       3.0          0\n",
      "10595    ANC-3b6c  -63       3.0          0\n",
      "10596    ANC-3b6c  -64       3.0          0\n",
      "10597    ANC-3b6c  -61       3.0          0\n",
      "10598    ANC-3b6c  -61       3.0          0\n",
      "\n",
      "[9082 rows x 4 columns]\n",
      "1    4541\n",
      "0    4541\n",
      "Name: dist_<_1m, dtype: int64\n"
     ]
    }
   ],
   "source": [
    "#imbalanced dataset. down-sample majority class\n",
    "data_maj = data[data['dist_<_1m'] == 1]\n",
    "data_min = data[data['dist_<_1m'] == 0]\n",
    "\n",
    "data_maj_downsampled = resample(data_maj, replace=False, n_samples=data_min.shape[0], random_state=176341)\n",
    "\n",
    "data = pd.concat([data_maj_downsampled, data_min])\n",
    "print(data)\n",
    "print(data['dist_<_1m'].value_counts())"
   ]
  },
  {
   "cell_type": "code",
   "execution_count": 40,
   "metadata": {},
   "outputs": [
    {
     "data": {
      "text/plain": [
       "Text(0.5, 1.0, 'ANC-3b6c')"
      ]
     },
     "execution_count": 40,
     "metadata": {},
     "output_type": "execute_result"
    },
    {
     "data": {
      "image/png": "[encoded data removed]",
      "text/plain": [
       "<Figure size 1440x576 with 3 Axes>"
      ]
     },
     "metadata": {},
     "output_type": "display_data"
    }
   ],
   "source": [
    "#boxplot for each anchor\n",
    "fig, ax = plt.subplots(1,3,figsize=(20,8))\n",
    "anchor_names_list = data['Anchor_name'].unique()\n",
    "\n",
    "data[data['Anchor_name'] == anchor_names_list[0]].boxplot(column='RSSI', by='distance', ax=ax[0])\n",
    "data[data['Anchor_name'] == anchor_names_list[1]].boxplot(column='RSSI', by='distance', ax=ax[1])\n",
    "data[data['Anchor_name'] == anchor_names_list[2]].boxplot(column='RSSI', by='distance', ax=ax[2])\n",
    "ax[0].set_title(anchor_names_list[0])\n",
    "ax[1].set_title(anchor_names_list[1])\n",
    "ax[2].set_title(anchor_names_list[2])"
   ]
  },
  {
   "cell_type": "code",
   "execution_count": 41,
   "metadata": {},
   "outputs": [
    {
     "data": {
      "text/plain": [
       "Text(0.5, 1.0, 'Mixed data')"
      ]
     },
     "execution_count": 41,
     "metadata": {},
     "output_type": "execute_result"
    },
    {
     "data": {
      "image/png": "[encoded data removed]",
      "text/plain": [
       "<Figure size 1440x1080 with 1 Axes>"
      ]
     },
     "metadata": {},
     "output_type": "display_data"
    }
   ],
   "source": [
    "#Mixing data from all anchors\n",
    "fig, ax = plt.subplots(figsize=(20,15))\n",
    "\n",
    "data.boxplot(column='RSSI', by='distance', ax=ax)\n",
    "ax.set_title(\"Mixed data\")"
   ]
  },
  {
   "cell_type": "code",
   "execution_count": 42,
   "metadata": {},
   "outputs": [],
   "source": [
    "#Remove distance=0 & distance=2.0 outliers  \n",
    "indexnames = data[(data.distance == 0) & (data.RSSI < -35)].index\n",
    "data.drop(indexnames, inplace=True, axis=0)\n",
    "\n",
    "#indexnames = data[(data.distance == 2.0) & (data.RSSI > -50)].index\n",
    "#data.drop(indexnames, inplace=True, axis=0)"
   ]
  },
  {
   "cell_type": "markdown",
   "metadata": {},
   "source": [
    "## VISUALIZATION"
   ]
  },
  {
   "cell_type": "markdown",
   "metadata": {},
   "source": [
    "### PCA per anchor"
   ]
  },
  {
   "cell_type": "code",
   "execution_count": 43,
   "metadata": {},
   "outputs": [
    {
     "name": "stdout",
     "output_type": "stream",
     "text": [
      "Index(['RSSI', '01_ANC-3b6c', '01_ANC-4278', '01_ANC-4acf'], dtype='object')\n"
     ]
    },
    {
     "data": {
      "text/html": [
       "<div>\n",
       "<style scoped>\n",
       "    .dataframe tbody tr th:only-of-type {\n",
       "        vertical-align: middle;\n",
       "    }\n",
       "\n",
       "    .dataframe tbody tr th {\n",
       "        vertical-align: top;\n",
       "    }\n",
       "\n",
       "    .dataframe thead th {\n",
       "        text-align: right;\n",
       "    }\n",
       "</style>\n",
       "<table border=\"1\" class=\"dataframe\">\n",
       "  <thead>\n",
       "    <tr style=\"text-align: right;\">\n",
       "      <th></th>\n",
       "      <th>RSSI</th>\n",
       "      <th>distance</th>\n",
       "      <th>dist_&lt;_1m</th>\n",
       "      <th>01_ANC-3b6c</th>\n",
       "      <th>01_ANC-4278</th>\n",
       "      <th>01_ANC-4acf</th>\n",
       "    </tr>\n",
       "  </thead>\n",
       "  <tbody>\n",
       "    <tr>\n",
       "      <th>3643</th>\n",
       "      <td>-0.028144</td>\n",
       "      <td>0.8</td>\n",
       "      <td>1</td>\n",
       "      <td>-0.700288</td>\n",
       "      <td>1.399737</td>\n",
       "      <td>-0.706636</td>\n",
       "    </tr>\n",
       "    <tr>\n",
       "      <th>4164</th>\n",
       "      <td>1.999308</td>\n",
       "      <td>0.0</td>\n",
       "      <td>1</td>\n",
       "      <td>-0.700288</td>\n",
       "      <td>-0.714420</td>\n",
       "      <td>1.415156</td>\n",
       "    </tr>\n",
       "    <tr>\n",
       "      <th>3585</th>\n",
       "      <td>0.156170</td>\n",
       "      <td>0.8</td>\n",
       "      <td>1</td>\n",
       "      <td>-0.700288</td>\n",
       "      <td>1.399737</td>\n",
       "      <td>-0.706636</td>\n",
       "    </tr>\n",
       "    <tr>\n",
       "      <th>8342</th>\n",
       "      <td>1.907151</td>\n",
       "      <td>0.0</td>\n",
       "      <td>1</td>\n",
       "      <td>1.427983</td>\n",
       "      <td>-0.714420</td>\n",
       "      <td>-0.706636</td>\n",
       "    </tr>\n",
       "    <tr>\n",
       "      <th>7163</th>\n",
       "      <td>0.432640</td>\n",
       "      <td>0.6</td>\n",
       "      <td>1</td>\n",
       "      <td>-0.700288</td>\n",
       "      <td>-0.714420</td>\n",
       "      <td>1.415156</td>\n",
       "    </tr>\n",
       "    <tr>\n",
       "      <th>...</th>\n",
       "      <td>...</td>\n",
       "      <td>...</td>\n",
       "      <td>...</td>\n",
       "      <td>...</td>\n",
       "      <td>...</td>\n",
       "      <td>...</td>\n",
       "    </tr>\n",
       "    <tr>\n",
       "      <th>10594</th>\n",
       "      <td>-1.410498</td>\n",
       "      <td>3.0</td>\n",
       "      <td>0</td>\n",
       "      <td>1.427983</td>\n",
       "      <td>-0.714420</td>\n",
       "      <td>-0.706636</td>\n",
       "    </tr>\n",
       "    <tr>\n",
       "      <th>10595</th>\n",
       "      <td>-1.410498</td>\n",
       "      <td>3.0</td>\n",
       "      <td>0</td>\n",
       "      <td>1.427983</td>\n",
       "      <td>-0.714420</td>\n",
       "      <td>-0.706636</td>\n",
       "    </tr>\n",
       "    <tr>\n",
       "      <th>10596</th>\n",
       "      <td>-1.502655</td>\n",
       "      <td>3.0</td>\n",
       "      <td>0</td>\n",
       "      <td>1.427983</td>\n",
       "      <td>-0.714420</td>\n",
       "      <td>-0.706636</td>\n",
       "    </tr>\n",
       "    <tr>\n",
       "      <th>10597</th>\n",
       "      <td>-1.226184</td>\n",
       "      <td>3.0</td>\n",
       "      <td>0</td>\n",
       "      <td>1.427983</td>\n",
       "      <td>-0.714420</td>\n",
       "      <td>-0.706636</td>\n",
       "    </tr>\n",
       "    <tr>\n",
       "      <th>10598</th>\n",
       "      <td>-1.226184</td>\n",
       "      <td>3.0</td>\n",
       "      <td>0</td>\n",
       "      <td>1.427983</td>\n",
       "      <td>-0.714420</td>\n",
       "      <td>-0.706636</td>\n",
       "    </tr>\n",
       "  </tbody>\n",
       "</table>\n",
       "<p>9008 rows × 6 columns</p>\n",
       "</div>"
      ],
      "text/plain": [
       "           RSSI  distance  dist_<_1m  01_ANC-3b6c  01_ANC-4278  01_ANC-4acf\n",
       "3643  -0.028144       0.8          1    -0.700288     1.399737    -0.706636\n",
       "4164   1.999308       0.0          1    -0.700288    -0.714420     1.415156\n",
       "3585   0.156170       0.8          1    -0.700288     1.399737    -0.706636\n",
       "8342   1.907151       0.0          1     1.427983    -0.714420    -0.706636\n",
       "7163   0.432640       0.6          1    -0.700288    -0.714420     1.415156\n",
       "...         ...       ...        ...          ...          ...          ...\n",
       "10594 -1.410498       3.0          0     1.427983    -0.714420    -0.706636\n",
       "10595 -1.410498       3.0          0     1.427983    -0.714420    -0.706636\n",
       "10596 -1.502655       3.0          0     1.427983    -0.714420    -0.706636\n",
       "10597 -1.226184       3.0          0     1.427983    -0.714420    -0.706636\n",
       "10598 -1.226184       3.0          0     1.427983    -0.714420    -0.706636\n",
       "\n",
       "[9008 rows x 6 columns]"
      ]
     },
     "execution_count": 43,
     "metadata": {},
     "output_type": "execute_result"
    }
   ],
   "source": [
    "data_numerical = pd.get_dummies(data, prefix='01' ,columns=['Anchor_name'])\n",
    "columns = data_numerical.columns.delete(1).delete(1) #delete target variable\n",
    "print(columns)\n",
    "data_numerical_standarized = data_numerical.copy()\n",
    "data_numerical_standarized[columns] = StandardScaler().fit_transform(data_numerical[columns])\n",
    "data_numerical_standarized"
   ]
  },
  {
   "cell_type": "code",
   "execution_count": 44,
   "metadata": {},
   "outputs": [
    {
     "name": "stdout",
     "output_type": "stream",
     "text": [
      "[0.38857721 0.37622496 0.23519783]\n",
      "[0.38857721 0.76480217 1.        ]\n"
     ]
    }
   ],
   "source": [
    "colors_dist = {0: 'k', 1:'r'}\n",
    "\n",
    "myPCA = PCA(n_components=3)\n",
    "myPCA.fit(data_numerical_standarized[columns]);\n",
    "print(myPCA.explained_variance_ratio_)\n",
    "print(myPCA.explained_variance_ratio_.cumsum())"
   ]
  },
  {
   "cell_type": "code",
   "execution_count": 45,
   "metadata": {},
   "outputs": [
    {
     "data": {
      "text/html": [
       "<div>\n",
       "<style scoped>\n",
       "    .dataframe tbody tr th:only-of-type {\n",
       "        vertical-align: middle;\n",
       "    }\n",
       "\n",
       "    .dataframe tbody tr th {\n",
       "        vertical-align: top;\n",
       "    }\n",
       "\n",
       "    .dataframe thead th {\n",
       "        text-align: right;\n",
       "    }\n",
       "</style>\n",
       "<table border=\"1\" class=\"dataframe\">\n",
       "  <thead>\n",
       "    <tr style=\"text-align: right;\">\n",
       "      <th></th>\n",
       "      <th>RSSI</th>\n",
       "      <th>distance</th>\n",
       "      <th>dist_&lt;_1m</th>\n",
       "      <th>01_ANC-3b6c</th>\n",
       "      <th>01_ANC-4278</th>\n",
       "      <th>01_ANC-4acf</th>\n",
       "      <th>PC1</th>\n",
       "      <th>PC2</th>\n",
       "      <th>PC3</th>\n",
       "    </tr>\n",
       "  </thead>\n",
       "  <tbody>\n",
       "    <tr>\n",
       "      <th>3643</th>\n",
       "      <td>-0.028144</td>\n",
       "      <td>0.8</td>\n",
       "      <td>1</td>\n",
       "      <td>-0.700288</td>\n",
       "      <td>1.399737</td>\n",
       "      <td>-0.706636</td>\n",
       "      <td>-0.137650</td>\n",
       "      <td>1.711881</td>\n",
       "      <td>0.017651</td>\n",
       "    </tr>\n",
       "    <tr>\n",
       "      <th>4164</th>\n",
       "      <td>1.999308</td>\n",
       "      <td>0.0</td>\n",
       "      <td>1</td>\n",
       "      <td>-0.700288</td>\n",
       "      <td>-0.714420</td>\n",
       "      <td>1.415156</td>\n",
       "      <td>2.101564</td>\n",
       "      <td>-0.730958</td>\n",
       "      <td>-1.431722</td>\n",
       "    </tr>\n",
       "    <tr>\n",
       "      <th>3585</th>\n",
       "      <td>0.156170</td>\n",
       "      <td>0.8</td>\n",
       "      <td>1</td>\n",
       "      <td>-0.700288</td>\n",
       "      <td>1.399737</td>\n",
       "      <td>-0.706636</td>\n",
       "      <td>-0.080484</td>\n",
       "      <td>1.715253</td>\n",
       "      <td>-0.157540</td>\n",
       "    </tr>\n",
       "    <tr>\n",
       "      <th>8342</th>\n",
       "      <td>1.907151</td>\n",
       "      <td>0.0</td>\n",
       "      <td>1</td>\n",
       "      <td>1.427983</td>\n",
       "      <td>-0.714420</td>\n",
       "      <td>-0.706636</td>\n",
       "      <td>-0.775530</td>\n",
       "      <td>-0.946846</td>\n",
       "      <td>-2.277746</td>\n",
       "    </tr>\n",
       "    <tr>\n",
       "      <th>7163</th>\n",
       "      <td>0.432640</td>\n",
       "      <td>0.6</td>\n",
       "      <td>1</td>\n",
       "      <td>-0.700288</td>\n",
       "      <td>-0.714420</td>\n",
       "      <td>1.415156</td>\n",
       "      <td>1.615647</td>\n",
       "      <td>-0.759628</td>\n",
       "      <td>0.057408</td>\n",
       "    </tr>\n",
       "    <tr>\n",
       "      <th>...</th>\n",
       "      <td>...</td>\n",
       "      <td>...</td>\n",
       "      <td>...</td>\n",
       "      <td>...</td>\n",
       "      <td>...</td>\n",
       "      <td>...</td>\n",
       "      <td>...</td>\n",
       "      <td>...</td>\n",
       "      <td>...</td>\n",
       "    </tr>\n",
       "    <tr>\n",
       "      <th>10594</th>\n",
       "      <td>-1.410498</td>\n",
       "      <td>3.0</td>\n",
       "      <td>0</td>\n",
       "      <td>1.427983</td>\n",
       "      <td>-0.714420</td>\n",
       "      <td>-0.706636</td>\n",
       "      <td>-1.804531</td>\n",
       "      <td>-1.007559</td>\n",
       "      <td>0.875707</td>\n",
       "    </tr>\n",
       "    <tr>\n",
       "      <th>10595</th>\n",
       "      <td>-1.410498</td>\n",
       "      <td>3.0</td>\n",
       "      <td>0</td>\n",
       "      <td>1.427983</td>\n",
       "      <td>-0.714420</td>\n",
       "      <td>-0.706636</td>\n",
       "      <td>-1.804531</td>\n",
       "      <td>-1.007559</td>\n",
       "      <td>0.875707</td>\n",
       "    </tr>\n",
       "    <tr>\n",
       "      <th>10596</th>\n",
       "      <td>-1.502655</td>\n",
       "      <td>3.0</td>\n",
       "      <td>0</td>\n",
       "      <td>1.427983</td>\n",
       "      <td>-0.714420</td>\n",
       "      <td>-0.706636</td>\n",
       "      <td>-1.833115</td>\n",
       "      <td>-1.009245</td>\n",
       "      <td>0.963303</td>\n",
       "    </tr>\n",
       "    <tr>\n",
       "      <th>10597</th>\n",
       "      <td>-1.226184</td>\n",
       "      <td>3.0</td>\n",
       "      <td>0</td>\n",
       "      <td>1.427983</td>\n",
       "      <td>-0.714420</td>\n",
       "      <td>-0.706636</td>\n",
       "      <td>-1.747365</td>\n",
       "      <td>-1.004186</td>\n",
       "      <td>0.700516</td>\n",
       "    </tr>\n",
       "    <tr>\n",
       "      <th>10598</th>\n",
       "      <td>-1.226184</td>\n",
       "      <td>3.0</td>\n",
       "      <td>0</td>\n",
       "      <td>1.427983</td>\n",
       "      <td>-0.714420</td>\n",
       "      <td>-0.706636</td>\n",
       "      <td>-1.747365</td>\n",
       "      <td>-1.004186</td>\n",
       "      <td>0.700516</td>\n",
       "    </tr>\n",
       "  </tbody>\n",
       "</table>\n",
       "<p>9008 rows × 9 columns</p>\n",
       "</div>"
      ],
      "text/plain": [
       "           RSSI  distance  dist_<_1m  01_ANC-3b6c  01_ANC-4278  01_ANC-4acf  \\\n",
       "3643  -0.028144       0.8          1    -0.700288     1.399737    -0.706636   \n",
       "4164   1.999308       0.0          1    -0.700288    -0.714420     1.415156   \n",
       "3585   0.156170       0.8          1    -0.700288     1.399737    -0.706636   \n",
       "8342   1.907151       0.0          1     1.427983    -0.714420    -0.706636   \n",
       "7163   0.432640       0.6          1    -0.700288    -0.714420     1.415156   \n",
       "...         ...       ...        ...          ...          ...          ...   \n",
       "10594 -1.410498       3.0          0     1.427983    -0.714420    -0.706636   \n",
       "10595 -1.410498       3.0          0     1.427983    -0.714420    -0.706636   \n",
       "10596 -1.502655       3.0          0     1.427983    -0.714420    -0.706636   \n",
       "10597 -1.226184       3.0          0     1.427983    -0.714420    -0.706636   \n",
       "10598 -1.226184       3.0          0     1.427983    -0.714420    -0.706636   \n",
       "\n",
       "            PC1       PC2       PC3  \n",
       "3643  -0.137650  1.711881  0.017651  \n",
       "4164   2.101564 -0.730958 -1.431722  \n",
       "3585  -0.080484  1.715253 -0.157540  \n",
       "8342  -0.775530 -0.946846 -2.277746  \n",
       "7163   1.615647 -0.759628  0.057408  \n",
       "...         ...       ...       ...  \n",
       "10594 -1.804531 -1.007559  0.875707  \n",
       "10595 -1.804531 -1.007559  0.875707  \n",
       "10596 -1.833115 -1.009245  0.963303  \n",
       "10597 -1.747365 -1.004186  0.700516  \n",
       "10598 -1.747365 -1.004186  0.700516  \n",
       "\n",
       "[9008 rows x 9 columns]"
      ]
     },
     "execution_count": 45,
     "metadata": {},
     "output_type": "execute_result"
    }
   ],
   "source": [
    "transformed_data = myPCA.transform(data_numerical_standarized[columns])\n",
    "data_numerical_standarized[['PC1','PC2','PC3']] = transformed_data[:,:3]\n",
    "data_numerical_standarized"
   ]
  },
  {
   "cell_type": "code",
   "execution_count": 46,
   "metadata": {},
   "outputs": [
    {
     "data": {
      "text/plain": [
       "<matplotlib.axes._subplots.AxesSubplot at 0x7fc53689fd60>"
      ]
     },
     "execution_count": 46,
     "metadata": {},
     "output_type": "execute_result"
    },
    {
     "data": {
      "image/png": "[encoded data removed]",
      "text/plain": [
       "<Figure size 432x288 with 1 Axes>"
      ]
     },
     "metadata": {},
     "output_type": "display_data"
    }
   ],
   "source": [
    "sns.scatterplot(x='PC1', y='PC2', hue='dist_<_1m', data=data_numerical_standarized)"
   ]
  },
  {
   "cell_type": "code",
   "execution_count": 47,
   "metadata": {},
   "outputs": [
    {
     "data": {
      "text/plain": [
       "<mpl_toolkits.mplot3d.art3d.Path3DCollection at 0x7fc534205fa0>"
      ]
     },
     "execution_count": 47,
     "metadata": {},
     "output_type": "execute_result"
    },
    {
     "data": {
      "image/png": "[encoded data removed]",
      "text/plain": [
       "<Figure size 432x432 with 1 Axes>"
      ]
     },
     "metadata": {},
     "output_type": "display_data"
    }
   ],
   "source": [
    "fig = plt.figure(figsize=(6,6))\n",
    "ax = fig.add_subplot(111, projection='3d')\n",
    "\n",
    "plt.scatter(data_numerical_standarized.PC1,\n",
    "            data_numerical_standarized.PC2,\n",
    "            zs=data_numerical_standarized.PC3,\n",
    "            depthshade=False,\n",
    "            alpha=0.1,\n",
    "            c=data_numerical_standarized['dist_<_1m'].apply(lambda x: colors_dist[x]), s=50)"
   ]
  },
  {
   "cell_type": "markdown",
   "metadata": {},
   "source": [
    "## USING GAUSSIAN NAIVE BAYES MODEL"
   ]
  },
  {
   "cell_type": "markdown",
   "metadata": {},
   "source": [
    "### BUILDING TRAIN & TEST SETS"
   ]
  },
  {
   "cell_type": "code",
   "execution_count": 48,
   "metadata": {},
   "outputs": [],
   "source": [
    "#split in train and test data\n",
    "train, test = train_test_split(data, test_size=data.shape[0]//3)"
   ]
  },
  {
   "cell_type": "markdown",
   "metadata": {},
   "source": [
    "### CONVERT CATEGORICAL DATA TO NUMERICAL "
   ]
  },
  {
   "cell_type": "code",
   "execution_count": 49,
   "metadata": {},
   "outputs": [
    {
     "name": "stdout",
     "output_type": "stream",
     "text": [
      "['ANC-4278' 'ANC-4acf' 'ANC-3b6c']\n",
      "       Anchor_name  RSSI  distance  dist_<_1m\n",
      "6827             1   -39       0.4          1\n",
      "6801             1   -37       0.4          1\n",
      "11186            2   -46       0.6          1\n",
      "2529             0   -46       0.4          1\n",
      "6235             1   -53       3.0          0\n",
      "...            ...   ...       ...        ...\n",
      "5775             1   -35       0.2          1\n",
      "7983             1   -50       0.8          1\n",
      "4684             1   -45       1.0          0\n",
      "1782             0   -37       0.2          1\n",
      "10721            2   -39       0.4          1\n",
      "\n",
      "[6006 rows x 4 columns]\n"
     ]
    }
   ],
   "source": [
    "#convert categorical data to numerical data\n",
    "\n",
    "ANCHORS = data['Anchor_name'].unique()\n",
    "print(ANCHORS)\n",
    "train.replace({ANCHORS[0]: 0, ANCHORS[1]: 1, ANCHORS[2]: 2}, inplace=True)\n",
    "test.replace({ANCHORS[0]: 0, ANCHORS[1]: 1, ANCHORS[2]: 2}, inplace=True)\n",
    "\n",
    "print(train)"
   ]
  },
  {
   "cell_type": "markdown",
   "metadata": {},
   "source": [
    "### APPLY GAUSSIAN NAIVE-BAYES"
   ]
  },
  {
   "cell_type": "code",
   "execution_count": 50,
   "metadata": {},
   "outputs": [
    {
     "name": "stdout",
     "output_type": "stream",
     "text": [
      "[[1293  254]\n",
      " [ 310 1145]]\n",
      "cross validation score: mean->0.8123524681087076 std->0.01483677297710099\n",
      "\n",
      "CLASSIFICATION REPORT\n",
      "              precision    recall  f1-score   support\n",
      "\n",
      "           0       0.81      0.84      0.82      1547\n",
      "           1       0.82      0.79      0.80      1455\n",
      "\n",
      "    accuracy                           0.81      3002\n",
      "   macro avg       0.81      0.81      0.81      3002\n",
      "weighted avg       0.81      0.81      0.81      3002\n",
      "\n"
     ]
    }
   ],
   "source": [
    "#apply a gaussian naive-bayes\n",
    "NB_model = GaussianNB()\n",
    "NB_model.fit(train.loc[:,'Anchor_name':'RSSI'], train['dist_<_1m'])\n",
    "\n",
    "#using cross validation\n",
    "NB_model_cv = GaussianNB()\n",
    "scores = cross_val_score(NB_model_cv, train.loc[:,'Anchor_name':'RSSI'], train['dist_<_1m'], cv=10)\n",
    "\n",
    "#compute confusion matrix\n",
    "\n",
    "y_test_pred = NB_model.predict(test.loc[:,'Anchor_name':'RSSI'])\n",
    "print(confusion_matrix(test['dist_<_1m'], y_test_pred))\n",
    "\n",
    "print(f'cross validation score: mean->{scores.mean()} std->{scores.std()}\\n')\n",
    "\n",
    "#generate classification report\n",
    "print(\"CLASSIFICATION REPORT\")\n",
    "y_test_pred = NB_model.predict(test.loc[:, 'Anchor_name':'RSSI'])\n",
    "print(classification_report(y_true=test['dist_<_1m'], y_pred=y_test_pred))"
   ]
  },
  {
   "cell_type": "markdown",
   "metadata": {},
   "source": [
    "## USING SVC"
   ]
  },
  {
   "cell_type": "markdown",
   "metadata": {},
   "source": [
    "### CONVERT CATEGORICAL DATA TO NUMERICAL"
   ]
  },
  {
   "cell_type": "code",
   "execution_count": 15,
   "metadata": {},
   "outputs": [],
   "source": [
    "data_numerical = pd.get_dummies(data, prefix='01', columns=['Anchor_name'])"
   ]
  },
  {
   "cell_type": "markdown",
   "metadata": {},
   "source": [
    "### BUILDING TRAIN & TEST SETS"
   ]
  },
  {
   "cell_type": "code",
   "execution_count": 16,
   "metadata": {},
   "outputs": [],
   "source": [
    "#split in train and test data\n",
    "X_train, X_test, y_train, y_test = train_test_split(data_numerical.loc[:,['RSSI','01_ANC-3b6c','01_ANC-4278','01_ANC-4278']], data_numerical.loc[:,['dist_<_1m']], test_size=data.shape[0]//3)"
   ]
  },
  {
   "cell_type": "markdown",
   "metadata": {},
   "source": [
    "### SCALE TRAIN & TEST SETS SEPARATELY"
   ]
  },
  {
   "cell_type": "code",
   "execution_count": 1,
   "metadata": {},
   "outputs": [
    {
     "ename": "NameError",
     "evalue": "name 'StandardScaler' is not defined",
     "output_type": "error",
     "traceback": [
      "\u001b[0;31m---------------------------------------------------------------------------\u001b[0m",
      "\u001b[0;31mNameError\u001b[0m                                 Traceback (most recent call last)",
      "\u001b[0;32m<ipython-input-1-2f498bcd6634>\u001b[0m in \u001b[0;36m<module>\u001b[0;34m\u001b[0m\n\u001b[0;32m----> 1\u001b[0;31m \u001b[0mX_train\u001b[0m \u001b[0;34m=\u001b[0m \u001b[0mStandardScaler\u001b[0m\u001b[0;34m(\u001b[0m\u001b[0;34m)\u001b[0m\u001b[0;34m.\u001b[0m\u001b[0mfit_transform\u001b[0m\u001b[0;34m(\u001b[0m\u001b[0mX_train\u001b[0m\u001b[0;34m)\u001b[0m\u001b[0;34m\u001b[0m\u001b[0;34m\u001b[0m\u001b[0m\n\u001b[0m\u001b[1;32m      2\u001b[0m \u001b[0mX_test\u001b[0m \u001b[0;34m=\u001b[0m \u001b[0mStandardScaler\u001b[0m\u001b[0;34m(\u001b[0m\u001b[0;34m)\u001b[0m\u001b[0;34m.\u001b[0m\u001b[0mtransform\u001b[0m\u001b[0;34m(\u001b[0m\u001b[0mX_test\u001b[0m\u001b[0;34m)\u001b[0m\u001b[0;34m\u001b[0m\u001b[0;34m\u001b[0m\u001b[0m\n",
      "\u001b[0;31mNameError\u001b[0m: name 'StandardScaler' is not defined"
     ]
    }
   ],
   "source": [
    "scaler = StandardScaler()\n",
    "X_train = scaler.fit_transform(X_train)\n",
    "X_test = scaler.transform(X_test)"
   ]
  },
  {
   "cell_type": "markdown",
   "metadata": {},
   "source": [
    "### APPLY SVC"
   ]
  },
  {
   "cell_type": "code",
   "execution_count": 18,
   "metadata": {},
   "outputs": [
    {
     "name": "stdout",
     "output_type": "stream",
     "text": [
      "0.8613161434378279\n",
      "{'C': 1000, 'kernel': 'rbf'}\n"
     ]
    }
   ],
   "source": [
    "svc = SVC(class_weight='balanced')\n",
    "\n",
    "kernels = ['linear', 'rbf', 'poly', 'sigmoid']\n",
    "Cs = [0.0001, 0.001, 0.1, 0.5, 1, 2, 3, 10, 50 ,100, 1000]\n",
    "\n",
    "trc = GridSearchCV(estimator=svc,\n",
    "                   param_grid={\n",
    "                       'C': Cs,\n",
    "                       'kernel': kernels\n",
    "                   },\n",
    "                   scoring=['accuracy', 'recall_macro', 'f1_macro'],\n",
    "                   cv=10,\n",
    "                   n_jobs=-1,\n",
    "                   return_train_score=True,\n",
    "                   refit='f1_macro')\n",
    "\n",
    "svc_model_5CV = trc.fit(X_train, y_train)\n",
    "\n",
    "print(svc_model_5CV.best_score_)\n",
    "print(svc_model_5CV.best_params_)"
   ]
  },
  {
   "cell_type": "code",
   "execution_count": 19,
   "metadata": {},
   "outputs": [
    {
     "name": "stdout",
     "output_type": "stream",
     "text": [
      "0.8629023239511862\n",
      "{'degree': 6}\n"
     ]
    }
   ],
   "source": [
    "# Try 'poly' kernel (the best for this case) with different degrees\n",
    "\n",
    "svc = SVC(C=2, kernel='poly', class_weight='balanced')\n",
    "\n",
    "degrees = [2,3,4,5,6,7,8,9,10]\n",
    "\n",
    "trc = GridSearchCV(estimator=svc,\n",
    "                   param_grid={\n",
    "                       'degree': degrees\n",
    "                   },\n",
    "                   scoring=['accuracy', 'recall_macro', 'f1_macro'],\n",
    "                   cv=5,\n",
    "                   n_jobs=-1,\n",
    "                   return_train_score=True,\n",
    "                   refit='f1_macro')\n",
    "\n",
    "svc_model_5CV = trc.fit(X_train, y_train)\n",
    "\n",
    "print(svc_model_5CV.best_score_)\n",
    "print(svc_model_5CV.best_params_)"
   ]
  },
  {
   "cell_type": "code",
   "execution_count": 20,
   "metadata": {
    "scrolled": true
   },
   "outputs": [
    {
     "ename": "KeyError",
     "evalue": "\"Passing list-likes to .loc or [] with any missing labels is no longer supported. The following labels were missing: Index(['param_C', 'param_kernel'], dtype='object'). See https://pandas.pydata.org/pandas-docs/stable/user_guide/indexing.html#deprecate-loc-reindex-listlike\"",
     "output_type": "error",
     "traceback": [
      "\u001b[0;31m---------------------------------------------------------------------------\u001b[0m",
      "\u001b[0;31mKeyError\u001b[0m                                  Traceback (most recent call last)",
      "\u001b[0;32m<ipython-input-20-904f29f26745>\u001b[0m in \u001b[0;36m<module>\u001b[0;34m\u001b[0m\n\u001b[0;32m----> 1\u001b[0;31m pd.DataFrame(svc_model_5CV.cv_results_).loc[:, [\n\u001b[0m\u001b[1;32m      2\u001b[0m     \u001b[0;34m'mean_fit_time'\u001b[0m\u001b[0;34m,\u001b[0m\u001b[0;34m\u001b[0m\u001b[0;34m\u001b[0m\u001b[0m\n\u001b[1;32m      3\u001b[0m     \u001b[0;34m'std_fit_time'\u001b[0m\u001b[0;34m,\u001b[0m\u001b[0;34m\u001b[0m\u001b[0;34m\u001b[0m\u001b[0m\n\u001b[1;32m      4\u001b[0m     \u001b[0;34m'param_C'\u001b[0m\u001b[0;34m,\u001b[0m\u001b[0;34m\u001b[0m\u001b[0;34m\u001b[0m\u001b[0m\n\u001b[1;32m      5\u001b[0m     \u001b[0;34m'param_kernel'\u001b[0m\u001b[0;34m,\u001b[0m\u001b[0;34m\u001b[0m\u001b[0;34m\u001b[0m\u001b[0m\n",
      "\u001b[0;32m~/.local/lib/python3.8/site-packages/pandas/core/indexing.py\u001b[0m in \u001b[0;36m__getitem__\u001b[0;34m(self, key)\u001b[0m\n\u001b[1;32m    871\u001b[0m                     \u001b[0;31m# AttributeError for IntervalTree get_value\u001b[0m\u001b[0;34m\u001b[0m\u001b[0;34m\u001b[0m\u001b[0;34m\u001b[0m\u001b[0m\n\u001b[1;32m    872\u001b[0m                     \u001b[0;32mpass\u001b[0m\u001b[0;34m\u001b[0m\u001b[0;34m\u001b[0m\u001b[0m\n\u001b[0;32m--> 873\u001b[0;31m             \u001b[0;32mreturn\u001b[0m \u001b[0mself\u001b[0m\u001b[0;34m.\u001b[0m\u001b[0m_getitem_tuple\u001b[0m\u001b[0;34m(\u001b[0m\u001b[0mkey\u001b[0m\u001b[0;34m)\u001b[0m\u001b[0;34m\u001b[0m\u001b[0;34m\u001b[0m\u001b[0m\n\u001b[0m\u001b[1;32m    874\u001b[0m         \u001b[0;32melse\u001b[0m\u001b[0;34m:\u001b[0m\u001b[0;34m\u001b[0m\u001b[0;34m\u001b[0m\u001b[0m\n\u001b[1;32m    875\u001b[0m             \u001b[0;31m# we by definition only have the 0th axis\u001b[0m\u001b[0;34m\u001b[0m\u001b[0;34m\u001b[0m\u001b[0;34m\u001b[0m\u001b[0m\n",
      "\u001b[0;32m~/.local/lib/python3.8/site-packages/pandas/core/indexing.py\u001b[0m in \u001b[0;36m_getitem_tuple\u001b[0;34m(self, tup)\u001b[0m\n\u001b[1;32m   1053\u001b[0m             \u001b[0;32mreturn\u001b[0m \u001b[0mself\u001b[0m\u001b[0;34m.\u001b[0m\u001b[0m_multi_take\u001b[0m\u001b[0;34m(\u001b[0m\u001b[0mtup\u001b[0m\u001b[0;34m)\u001b[0m\u001b[0;34m\u001b[0m\u001b[0;34m\u001b[0m\u001b[0m\n\u001b[1;32m   1054\u001b[0m \u001b[0;34m\u001b[0m\u001b[0m\n\u001b[0;32m-> 1055\u001b[0;31m         \u001b[0;32mreturn\u001b[0m \u001b[0mself\u001b[0m\u001b[0;34m.\u001b[0m\u001b[0m_getitem_tuple_same_dim\u001b[0m\u001b[0;34m(\u001b[0m\u001b[0mtup\u001b[0m\u001b[0;34m)\u001b[0m\u001b[0;34m\u001b[0m\u001b[0;34m\u001b[0m\u001b[0m\n\u001b[0m\u001b[1;32m   1056\u001b[0m \u001b[0;34m\u001b[0m\u001b[0m\n\u001b[1;32m   1057\u001b[0m     \u001b[0;32mdef\u001b[0m \u001b[0m_get_label\u001b[0m\u001b[0;34m(\u001b[0m\u001b[0mself\u001b[0m\u001b[0;34m,\u001b[0m \u001b[0mlabel\u001b[0m\u001b[0;34m,\u001b[0m \u001b[0maxis\u001b[0m\u001b[0;34m:\u001b[0m \u001b[0mint\u001b[0m\u001b[0;34m)\u001b[0m\u001b[0;34m:\u001b[0m\u001b[0;34m\u001b[0m\u001b[0;34m\u001b[0m\u001b[0m\n",
      "\u001b[0;32m~/.local/lib/python3.8/site-packages/pandas/core/indexing.py\u001b[0m in \u001b[0;36m_getitem_tuple_same_dim\u001b[0;34m(self, tup)\u001b[0m\n\u001b[1;32m    748\u001b[0m                 \u001b[0;32mcontinue\u001b[0m\u001b[0;34m\u001b[0m\u001b[0;34m\u001b[0m\u001b[0m\n\u001b[1;32m    749\u001b[0m \u001b[0;34m\u001b[0m\u001b[0m\n\u001b[0;32m--> 750\u001b[0;31m             \u001b[0mretval\u001b[0m \u001b[0;34m=\u001b[0m \u001b[0mgetattr\u001b[0m\u001b[0;34m(\u001b[0m\u001b[0mretval\u001b[0m\u001b[0;34m,\u001b[0m \u001b[0mself\u001b[0m\u001b[0;34m.\u001b[0m\u001b[0mname\u001b[0m\u001b[0;34m)\u001b[0m\u001b[0;34m.\u001b[0m\u001b[0m_getitem_axis\u001b[0m\u001b[0;34m(\u001b[0m\u001b[0mkey\u001b[0m\u001b[0;34m,\u001b[0m \u001b[0maxis\u001b[0m\u001b[0;34m=\u001b[0m\u001b[0mi\u001b[0m\u001b[0;34m)\u001b[0m\u001b[0;34m\u001b[0m\u001b[0;34m\u001b[0m\u001b[0m\n\u001b[0m\u001b[1;32m    751\u001b[0m             \u001b[0;31m# We should never have retval.ndim < self.ndim, as that should\u001b[0m\u001b[0;34m\u001b[0m\u001b[0;34m\u001b[0m\u001b[0;34m\u001b[0m\u001b[0m\n\u001b[1;32m    752\u001b[0m             \u001b[0;31m#  be handled by the _getitem_lowerdim call above.\u001b[0m\u001b[0;34m\u001b[0m\u001b[0;34m\u001b[0m\u001b[0;34m\u001b[0m\u001b[0m\n",
      "\u001b[0;32m~/.local/lib/python3.8/site-packages/pandas/core/indexing.py\u001b[0m in \u001b[0;36m_getitem_axis\u001b[0;34m(self, key, axis)\u001b[0m\n\u001b[1;32m   1097\u001b[0m                     \u001b[0;32mraise\u001b[0m \u001b[0mValueError\u001b[0m\u001b[0;34m(\u001b[0m\u001b[0;34m\"Cannot index with multidimensional key\"\u001b[0m\u001b[0;34m)\u001b[0m\u001b[0;34m\u001b[0m\u001b[0;34m\u001b[0m\u001b[0m\n\u001b[1;32m   1098\u001b[0m \u001b[0;34m\u001b[0m\u001b[0m\n\u001b[0;32m-> 1099\u001b[0;31m                 \u001b[0;32mreturn\u001b[0m \u001b[0mself\u001b[0m\u001b[0;34m.\u001b[0m\u001b[0m_getitem_iterable\u001b[0m\u001b[0;34m(\u001b[0m\u001b[0mkey\u001b[0m\u001b[0;34m,\u001b[0m \u001b[0maxis\u001b[0m\u001b[0;34m=\u001b[0m\u001b[0maxis\u001b[0m\u001b[0;34m)\u001b[0m\u001b[0;34m\u001b[0m\u001b[0;34m\u001b[0m\u001b[0m\n\u001b[0m\u001b[1;32m   1100\u001b[0m \u001b[0;34m\u001b[0m\u001b[0m\n\u001b[1;32m   1101\u001b[0m             \u001b[0;31m# nested tuple slicing\u001b[0m\u001b[0;34m\u001b[0m\u001b[0;34m\u001b[0m\u001b[0;34m\u001b[0m\u001b[0m\n",
      "\u001b[0;32m~/.local/lib/python3.8/site-packages/pandas/core/indexing.py\u001b[0m in \u001b[0;36m_getitem_iterable\u001b[0;34m(self, key, axis)\u001b[0m\n\u001b[1;32m   1035\u001b[0m \u001b[0;34m\u001b[0m\u001b[0m\n\u001b[1;32m   1036\u001b[0m         \u001b[0;31m# A collection of keys\u001b[0m\u001b[0;34m\u001b[0m\u001b[0;34m\u001b[0m\u001b[0;34m\u001b[0m\u001b[0m\n\u001b[0;32m-> 1037\u001b[0;31m         \u001b[0mkeyarr\u001b[0m\u001b[0;34m,\u001b[0m \u001b[0mindexer\u001b[0m \u001b[0;34m=\u001b[0m \u001b[0mself\u001b[0m\u001b[0;34m.\u001b[0m\u001b[0m_get_listlike_indexer\u001b[0m\u001b[0;34m(\u001b[0m\u001b[0mkey\u001b[0m\u001b[0;34m,\u001b[0m \u001b[0maxis\u001b[0m\u001b[0;34m,\u001b[0m \u001b[0mraise_missing\u001b[0m\u001b[0;34m=\u001b[0m\u001b[0;32mFalse\u001b[0m\u001b[0;34m)\u001b[0m\u001b[0;34m\u001b[0m\u001b[0;34m\u001b[0m\u001b[0m\n\u001b[0m\u001b[1;32m   1038\u001b[0m         return self.obj._reindex_with_indexers(\n\u001b[1;32m   1039\u001b[0m             \u001b[0;34m{\u001b[0m\u001b[0maxis\u001b[0m\u001b[0;34m:\u001b[0m \u001b[0;34m[\u001b[0m\u001b[0mkeyarr\u001b[0m\u001b[0;34m,\u001b[0m \u001b[0mindexer\u001b[0m\u001b[0;34m]\u001b[0m\u001b[0;34m}\u001b[0m\u001b[0;34m,\u001b[0m \u001b[0mcopy\u001b[0m\u001b[0;34m=\u001b[0m\u001b[0;32mTrue\u001b[0m\u001b[0;34m,\u001b[0m \u001b[0mallow_dups\u001b[0m\u001b[0;34m=\u001b[0m\u001b[0;32mTrue\u001b[0m\u001b[0;34m\u001b[0m\u001b[0;34m\u001b[0m\u001b[0m\n",
      "\u001b[0;32m~/.local/lib/python3.8/site-packages/pandas/core/indexing.py\u001b[0m in \u001b[0;36m_get_listlike_indexer\u001b[0;34m(self, key, axis, raise_missing)\u001b[0m\n\u001b[1;32m   1252\u001b[0m             \u001b[0mkeyarr\u001b[0m\u001b[0;34m,\u001b[0m \u001b[0mindexer\u001b[0m\u001b[0;34m,\u001b[0m \u001b[0mnew_indexer\u001b[0m \u001b[0;34m=\u001b[0m \u001b[0max\u001b[0m\u001b[0;34m.\u001b[0m\u001b[0m_reindex_non_unique\u001b[0m\u001b[0;34m(\u001b[0m\u001b[0mkeyarr\u001b[0m\u001b[0;34m)\u001b[0m\u001b[0;34m\u001b[0m\u001b[0;34m\u001b[0m\u001b[0m\n\u001b[1;32m   1253\u001b[0m \u001b[0;34m\u001b[0m\u001b[0m\n\u001b[0;32m-> 1254\u001b[0;31m         \u001b[0mself\u001b[0m\u001b[0;34m.\u001b[0m\u001b[0m_validate_read_indexer\u001b[0m\u001b[0;34m(\u001b[0m\u001b[0mkeyarr\u001b[0m\u001b[0;34m,\u001b[0m \u001b[0mindexer\u001b[0m\u001b[0;34m,\u001b[0m \u001b[0maxis\u001b[0m\u001b[0;34m,\u001b[0m \u001b[0mraise_missing\u001b[0m\u001b[0;34m=\u001b[0m\u001b[0mraise_missing\u001b[0m\u001b[0;34m)\u001b[0m\u001b[0;34m\u001b[0m\u001b[0;34m\u001b[0m\u001b[0m\n\u001b[0m\u001b[1;32m   1255\u001b[0m         \u001b[0;32mreturn\u001b[0m \u001b[0mkeyarr\u001b[0m\u001b[0;34m,\u001b[0m \u001b[0mindexer\u001b[0m\u001b[0;34m\u001b[0m\u001b[0;34m\u001b[0m\u001b[0m\n\u001b[1;32m   1256\u001b[0m \u001b[0;34m\u001b[0m\u001b[0m\n",
      "\u001b[0;32m~/.local/lib/python3.8/site-packages/pandas/core/indexing.py\u001b[0m in \u001b[0;36m_validate_read_indexer\u001b[0;34m(self, key, indexer, axis, raise_missing)\u001b[0m\n\u001b[1;32m   1313\u001b[0m \u001b[0;34m\u001b[0m\u001b[0m\n\u001b[1;32m   1314\u001b[0m                 \u001b[0;32mwith\u001b[0m \u001b[0moption_context\u001b[0m\u001b[0;34m(\u001b[0m\u001b[0;34m\"display.max_seq_items\"\u001b[0m\u001b[0;34m,\u001b[0m \u001b[0;36m10\u001b[0m\u001b[0;34m,\u001b[0m \u001b[0;34m\"display.width\"\u001b[0m\u001b[0;34m,\u001b[0m \u001b[0;36m80\u001b[0m\u001b[0;34m)\u001b[0m\u001b[0;34m:\u001b[0m\u001b[0;34m\u001b[0m\u001b[0;34m\u001b[0m\u001b[0m\n\u001b[0;32m-> 1315\u001b[0;31m                     raise KeyError(\n\u001b[0m\u001b[1;32m   1316\u001b[0m                         \u001b[0;34m\"Passing list-likes to .loc or [] with any missing labels \"\u001b[0m\u001b[0;34m\u001b[0m\u001b[0;34m\u001b[0m\u001b[0m\n\u001b[1;32m   1317\u001b[0m                         \u001b[0;34m\"is no longer supported. \"\u001b[0m\u001b[0;34m\u001b[0m\u001b[0;34m\u001b[0m\u001b[0m\n",
      "\u001b[0;31mKeyError\u001b[0m: \"Passing list-likes to .loc or [] with any missing labels is no longer supported. The following labels were missing: Index(['param_C', 'param_kernel'], dtype='object'). See https://pandas.pydata.org/pandas-docs/stable/user_guide/indexing.html#deprecate-loc-reindex-listlike\""
     ]
    }
   ],
   "source": [
    "pd.DataFrame(svc_model_5CV.cv_results_).loc[:, [\n",
    "    'mean_fit_time',\n",
    "    'std_fit_time',\n",
    "    'param_C',\n",
    "    'param_kernel',\n",
    "    'mean_test_accuracy',\n",
    "    'std_test_accuracy',\n",
    "    'mean_test_recall_macro',\n",
    "    'std_test_recall_macro',\n",
    "    'mean_test_f1_macro',\n",
    "    'std_test_f1_macro',\n",
    "]].sort_values(by='mean_test_f1_macro',ascending=False)"
   ]
  },
  {
   "cell_type": "markdown",
   "metadata": {},
   "source": [
    "### RE-TRAIN WITH TEST DATA USING THE BEST MODEL"
   ]
  },
  {
   "cell_type": "code",
   "execution_count": 21,
   "metadata": {},
   "outputs": [
    {
     "data": {
      "text/plain": [
       "[0.8592727064154406, 0.8590988413308338, 0.8590981834915624]"
      ]
     },
     "execution_count": 21,
     "metadata": {},
     "output_type": "execute_result"
    }
   ],
   "source": [
    "svm = SVC(C=2, kernel='poly', degree=3, class_weight='balanced')\n",
    "svm.fit(X_train,y_train)\n",
    "\n",
    "scores = cross_val_score(svm, X_train, y_train, cv=10)\n",
    "scores_recall = cross_val_score(svm, X_train, y_train, cv=10,scoring='recall_macro')\n",
    "scores_f_score = cross_val_score(svm, X_train, y_train, cv=10,scoring='f1_macro')\n",
    "[np.mean(scores),np.mean(scores_recall),np.mean(scores_f_score)]"
   ]
  },
  {
   "cell_type": "code",
   "execution_count": 22,
   "metadata": {},
   "outputs": [
    {
     "name": "stdout",
     "output_type": "stream",
     "text": [
      "              precision    recall  f1-score   support\n",
      "\n",
      "           0       0.88      0.80      0.84      1467\n",
      "           1       0.82      0.89      0.85      1485\n",
      "\n",
      "    accuracy                           0.85      2952\n",
      "   macro avg       0.85      0.85      0.85      2952\n",
      "weighted avg       0.85      0.85      0.85      2952\n",
      "\n"
     ]
    }
   ],
   "source": [
    "y_pred = svm.predict(X_test)\n",
    "\n",
    "print(classification_report(y_test,y_pred))"
   ]
  }
 ],
 "metadata": {
  "kernelspec": {
   "display_name": "Python 3",
   "language": "python",
   "name": "python3"
  },
  "language_info": {
   "codemirror_mode": {
    "name": "ipython",
    "version": 3
   },
   "file_extension": ".py",
   "mimetype": "text/x-python",
   "name": "python",
   "nbconvert_exporter": "python",
   "pygments_lexer": "ipython3",
   "version": "3.8.3"
  }
 },
 "nbformat": 4,
 "nbformat_minor": 4
}
